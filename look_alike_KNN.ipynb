{
 "cells": [
  {
   "cell_type": "code",
   "execution_count": 1,
   "id": "fedca0d4-df3f-4518-b71f-80c4b6bfd79e",
   "metadata": {},
   "outputs": [],
   "source": [
    "import pandas as pd\n",
    "import numpy as np\n",
    "from sklearn.preprocessing import StandardScaler\n",
    "\n",
    "# Load datasets\n",
    "seed_data = pd.read_csv('seed_data.csv')\n",
    "seed_data = seed_data.iloc[:, :-1]\n",
    "pool_data = pd.read_csv('pool_data.csv')\n",
    "\n",
    "# Standardize features\n",
    "scaler = StandardScaler()\n",
    "seed_data_scaled = scaler.fit_transform(seed_data)\n",
    "pool_data_scaled = scaler.transform(pool_data)"
   ]
  },
  {
   "cell_type": "code",
   "execution_count": 2,
   "id": "ef6a7b76-8ef7-49b0-af7a-a91449a6dfee",
   "metadata": {},
   "outputs": [],
   "source": [
    "from sklearn.cluster import KMeans\n",
    "\n",
    "# Fit KMeans to the seed data\n",
    "kmeans = KMeans(n_clusters=5, random_state=42, n_init=10)\n",
    "kmeans.fit(seed_data_scaled)\n",
    "\n",
    "# Assign clusters to the seed data\n",
    "seed_data['cluster'] = kmeans.labels_"
   ]
  },
  {
   "cell_type": "code",
   "execution_count": 3,
   "id": "69010429-3860-4dfb-98d2-fd02e9a3bc00",
   "metadata": {},
   "outputs": [],
   "source": [
    "from sklearn.neighbors import NearestNeighbors\n",
    "\n",
    "# Find the nearest neighbors in the pool data for each seed data point\n",
    "nn = NearestNeighbors(n_neighbors=5, algorithm='auto')\n",
    "nn.fit(pool_data_scaled)\n",
    "\n",
    "# Get the nearest neighbors for each cluster centroid\n",
    "distances, indices = nn.kneighbors(kmeans.cluster_centers_)\n",
    "\n",
    "# Collect the pool data nearest to the centroids\n",
    "nearest_pool_customers = pool_data.iloc[indices.flatten()]"
   ]
  },
  {
   "cell_type": "code",
   "execution_count": 4,
   "id": "167326c8-1caa-4933-8638-bfa23c8e7bb7",
   "metadata": {},
   "outputs": [
    {
     "name": "stdout",
     "output_type": "stream",
     "text": [
      "Ranked customer predictions saved to 'ranked_customers_KNN.csv'\n"
     ]
    },
    {
     "name": "stderr",
     "output_type": "stream",
     "text": [
      "C:\\Users\\NEW\\AppData\\Local\\Temp\\ipykernel_10796\\3154457476.py:5: SettingWithCopyWarning: \n",
      "A value is trying to be set on a copy of a slice from a DataFrame.\n",
      "Try using .loc[row_indexer,col_indexer] = value instead\n",
      "\n",
      "See the caveats in the documentation: https://pandas.pydata.org/pandas-docs/stable/user_guide/indexing.html#returning-a-view-versus-a-copy\n",
      "  nearest_pool_customers.loc[:, 'similarity_score'] = similarity_scores\n"
     ]
    }
   ],
   "source": [
    "# Calculate similarity scores (inverse of distance)\n",
    "similarity_scores = 1 / (1 + distances.flatten())\n",
    "\n",
    "# Add similarity scores to the nearest pool customers using .loc\n",
    "nearest_pool_customers.loc[:, 'similarity_score'] = similarity_scores\n",
    "\n",
    "# Rank pool customers based on similarity scores\n",
    "ranked_customers = nearest_pool_customers.sort_values(by='similarity_score', ascending=False)\n",
    "\n",
    "# Save ranked customers to a new CSV file\n",
    "ranked_customers.to_csv('ranked_customers_KNN.csv', index=False)\n",
    "\n",
    "print(\"Ranked customer predictions saved to 'ranked_customers_KNN.csv'\")"
   ]
  }
 ],
 "metadata": {
  "kernelspec": {
   "display_name": "Python 3 (ipykernel)",
   "language": "python",
   "name": "python3"
  },
  "language_info": {
   "codemirror_mode": {
    "name": "ipython",
    "version": 3
   },
   "file_extension": ".py",
   "mimetype": "text/x-python",
   "name": "python",
   "nbconvert_exporter": "python",
   "pygments_lexer": "ipython3",
   "version": "3.10.0"
  }
 },
 "nbformat": 4,
 "nbformat_minor": 5
}
