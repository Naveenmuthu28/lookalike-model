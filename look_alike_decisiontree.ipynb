{
 "cells": [
  {
   "cell_type": "code",
   "execution_count": 15,
   "id": "8adf6608-d2d1-403b-9245-67debc399800",
   "metadata": {},
   "outputs": [],
   "source": [
    "import pandas as pd\n",
    "from sklearn.model_selection import train_test_split, GridSearchCV\n",
    "from sklearn.tree import DecisionTreeClassifier\n",
    "from sklearn.metrics import accuracy_score, confusion_matrix"
   ]
  },
  {
   "cell_type": "code",
   "execution_count": 16,
   "id": "60284bb9-5028-44a3-91ef-9f21ab6ea613",
   "metadata": {},
   "outputs": [
    {
     "name": "stdout",
     "output_type": "stream",
     "text": [
      "   age  income  purchase_history  is_high_value\n",
      "0   56   54674               105              1\n",
      "1   69   55854               374              0\n",
      "2   46   66271               427              0\n",
      "3   32   93688               304              0\n",
      "4   60   58518               359              1\n"
     ]
    }
   ],
   "source": [
    "# Step 1: Load Data\n",
    "# Assuming a CSV file with customer data including features and a target column 'is_high_value'\n",
    "data = pd.read_csv('seed_data.csv')\n",
    "print(data.head())"
   ]
  },
  {
   "cell_type": "code",
   "execution_count": 17,
   "id": "8d542b11-777e-4fc4-b7ab-97756f2a2399",
   "metadata": {},
   "outputs": [],
   "source": [
    "# Step 2: Preprocess Data\n",
    "# Separate features and target variable\n",
    "X = data.drop(columns=['is_high_value'])\n",
    "y = data['is_high_value']\n",
    "\n",
    "# Split data into training and test sets\n",
    "X_train, X_test, y_train, y_test = train_test_split(X, y, test_size=0.3, random_state=42)"
   ]
  },
  {
   "cell_type": "code",
   "execution_count": 18,
   "id": "a3e3762b-27a3-4bd4-8e62-0358e50d7197",
   "metadata": {},
   "outputs": [
    {
     "name": "stdout",
     "output_type": "stream",
     "text": [
      "Best parameters: {'criterion': 'entropy', 'max_depth': 10, 'min_samples_leaf': 1, 'min_samples_split': 10}\n"
     ]
    }
   ],
   "source": [
    "# Step 3: Hyperparameter Tuning with Grid Search\n",
    "param_grid = {\n",
    "    'criterion': ['gini', 'entropy'],\n",
    "    'max_depth': [None, 10, 20, 30, 40, 50],\n",
    "    'min_samples_split': [2, 10, 20],\n",
    "    'min_samples_leaf': [1, 5, 10]\n",
    "}\n",
    "\n",
    "grid_search = GridSearchCV(DecisionTreeClassifier(random_state=42), param_grid, cv=5, scoring='accuracy')\n",
    "grid_search.fit(X_train, y_train)\n",
    "\n",
    "# Best parameters from Grid Search\n",
    "best_params = grid_search.best_params_\n",
    "print(f'Best parameters: {best_params}')\n",
    "\n",
    "# Train the model with the best parameters\n",
    "best_model = grid_search.best_estimator_"
   ]
  },
  {
   "cell_type": "code",
   "execution_count": 19,
   "id": "79608c43-c99e-4016-9021-7103e8059e7c",
   "metadata": {},
   "outputs": [
    {
     "name": "stdout",
     "output_type": "stream",
     "text": [
      "Accuracy: 0.6666666666666666\n",
      "Confusion Matrix:\n",
      "[[188  19]\n",
      " [ 81  12]]\n"
     ]
    }
   ],
   "source": [
    "# Step 4: Evaluate Model\n",
    "y_pred = best_model.predict(X_test)\n",
    "accuracy = accuracy_score(y_test, y_pred)\n",
    "conf_matrix = confusion_matrix(y_test, y_pred)\n",
    "\n",
    "print(f'Accuracy: {accuracy}')\n",
    "print('Confusion Matrix:')\n",
    "print(conf_matrix)"
   ]
  },
  {
   "cell_type": "code",
   "execution_count": 20,
   "id": "1cc14428-c513-435a-a537-02a16ff13014",
   "metadata": {},
   "outputs": [
    {
     "name": "stdout",
     "output_type": "stream",
     "text": [
      "Ranked customer predictions saved to 'ranked_customers.csv'\n"
     ]
    }
   ],
   "source": [
    "# Step 5: Score and Rank Customers\n",
    "# Assuming new_customer_data is a DataFrame with the same features as X\n",
    "new_customer_data = pd.read_csv('pool_data.csv')\n",
    "\n",
    "# Predict probabilities for the new customers\n",
    "look_alike_probabilities = best_model.predict_proba(new_customer_data)[:, 1]  # Probability of being high-value\n",
    "\n",
    "# Add scores to the new customer data\n",
    "new_customer_data['score'] = look_alike_probabilities\n",
    "\n",
    "# Rank customers based on the scores\n",
    "new_customer_data = new_customer_data.sort_values(by='score', ascending=False)\n",
    "\n",
    "# Save ranked customers to a new CSV file\n",
    "new_customer_data.to_csv('ranked_customers_DT.csv', index=False)\n",
    "\n",
    "print(\"Ranked customer predictions saved to 'ranked_customers.csv'\")"
   ]
  }
 ],
 "metadata": {
  "kernelspec": {
   "display_name": "Python 3 (ipykernel)",
   "language": "python",
   "name": "python3"
  },
  "language_info": {
   "codemirror_mode": {
    "name": "ipython",
    "version": 3
   },
   "file_extension": ".py",
   "mimetype": "text/x-python",
   "name": "python",
   "nbconvert_exporter": "python",
   "pygments_lexer": "ipython3",
   "version": "3.10.0"
  }
 },
 "nbformat": 4,
 "nbformat_minor": 5
}
