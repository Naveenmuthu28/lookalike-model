{
 "cells": [
  {
   "cell_type": "code",
   "execution_count": 6,
   "id": "14e000e2-126a-485c-9f8f-c4d580dc4edd",
   "metadata": {},
   "outputs": [
    {
     "data": {
      "text/html": [
       "<table class=\"dataframe\">\n",
       "<caption>A data.frame: 6 × 12</caption>\n",
       "<thead>\n",
       "\t<tr><th></th><th scope=col>Contains_Free</th><th scope=col>Contains_Win</th><th scope=col>Contains_Offer</th><th scope=col>Contains_Link</th><th scope=col>Contains_Discount</th><th scope=col>Free_Freq</th><th scope=col>Win_Freq</th><th scope=col>Offer_Freq</th><th scope=col>Link_Freq</th><th scope=col>Discount_Freq</th><th scope=col>Total_Words</th><th scope=col>Spam</th></tr>\n",
       "\t<tr><th></th><th scope=col>&lt;int&gt;</th><th scope=col>&lt;int&gt;</th><th scope=col>&lt;int&gt;</th><th scope=col>&lt;int&gt;</th><th scope=col>&lt;int&gt;</th><th scope=col>&lt;int&gt;</th><th scope=col>&lt;int&gt;</th><th scope=col>&lt;int&gt;</th><th scope=col>&lt;int&gt;</th><th scope=col>&lt;int&gt;</th><th scope=col>&lt;int&gt;</th><th scope=col>&lt;int&gt;</th></tr>\n",
       "</thead>\n",
       "<tbody>\n",
       "\t<tr><th scope=row>1</th><td>1</td><td>1</td><td>1</td><td>1</td><td>1</td><td>2</td><td>1</td><td>0</td><td>4</td><td>2</td><td>110</td><td>1</td></tr>\n",
       "\t<tr><th scope=row>2</th><td>1</td><td>1</td><td>0</td><td>1</td><td>1</td><td>5</td><td>4</td><td>3</td><td>2</td><td>4</td><td>230</td><td>0</td></tr>\n",
       "\t<tr><th scope=row>3</th><td>1</td><td>1</td><td>1</td><td>1</td><td>1</td><td>2</td><td>1</td><td>3</td><td>5</td><td>3</td><td>110</td><td>1</td></tr>\n",
       "\t<tr><th scope=row>4</th><td>1</td><td>1</td><td>1</td><td>1</td><td>1</td><td>1</td><td>2</td><td>2</td><td>5</td><td>2</td><td> 58</td><td>1</td></tr>\n",
       "\t<tr><th scope=row>5</th><td>1</td><td>1</td><td>1</td><td>1</td><td>1</td><td>1</td><td>5</td><td>4</td><td>0</td><td>0</td><td>159</td><td>1</td></tr>\n",
       "\t<tr><th scope=row>6</th><td>1</td><td>1</td><td>1</td><td>1</td><td>1</td><td>5</td><td>3</td><td>2</td><td>0</td><td>0</td><td> 80</td><td>1</td></tr>\n",
       "</tbody>\n",
       "</table>\n"
      ],
      "text/latex": [
       "A data.frame: 6 × 12\n",
       "\\begin{tabular}{r|llllllllllll}\n",
       "  & Contains\\_Free & Contains\\_Win & Contains\\_Offer & Contains\\_Link & Contains\\_Discount & Free\\_Freq & Win\\_Freq & Offer\\_Freq & Link\\_Freq & Discount\\_Freq & Total\\_Words & Spam\\\\\n",
       "  & <int> & <int> & <int> & <int> & <int> & <int> & <int> & <int> & <int> & <int> & <int> & <int>\\\\\n",
       "\\hline\n",
       "\t1 & 1 & 1 & 1 & 1 & 1 & 2 & 1 & 0 & 4 & 2 & 110 & 1\\\\\n",
       "\t2 & 1 & 1 & 0 & 1 & 1 & 5 & 4 & 3 & 2 & 4 & 230 & 0\\\\\n",
       "\t3 & 1 & 1 & 1 & 1 & 1 & 2 & 1 & 3 & 5 & 3 & 110 & 1\\\\\n",
       "\t4 & 1 & 1 & 1 & 1 & 1 & 1 & 2 & 2 & 5 & 2 &  58 & 1\\\\\n",
       "\t5 & 1 & 1 & 1 & 1 & 1 & 1 & 5 & 4 & 0 & 0 & 159 & 1\\\\\n",
       "\t6 & 1 & 1 & 1 & 1 & 1 & 5 & 3 & 2 & 0 & 0 &  80 & 1\\\\\n",
       "\\end{tabular}\n"
      ],
      "text/markdown": [
       "\n",
       "A data.frame: 6 × 12\n",
       "\n",
       "| <!--/--> | Contains_Free &lt;int&gt; | Contains_Win &lt;int&gt; | Contains_Offer &lt;int&gt; | Contains_Link &lt;int&gt; | Contains_Discount &lt;int&gt; | Free_Freq &lt;int&gt; | Win_Freq &lt;int&gt; | Offer_Freq &lt;int&gt; | Link_Freq &lt;int&gt; | Discount_Freq &lt;int&gt; | Total_Words &lt;int&gt; | Spam &lt;int&gt; |\n",
       "|---|---|---|---|---|---|---|---|---|---|---|---|---|\n",
       "| 1 | 1 | 1 | 1 | 1 | 1 | 2 | 1 | 0 | 4 | 2 | 110 | 1 |\n",
       "| 2 | 1 | 1 | 0 | 1 | 1 | 5 | 4 | 3 | 2 | 4 | 230 | 0 |\n",
       "| 3 | 1 | 1 | 1 | 1 | 1 | 2 | 1 | 3 | 5 | 3 | 110 | 1 |\n",
       "| 4 | 1 | 1 | 1 | 1 | 1 | 1 | 2 | 2 | 5 | 2 |  58 | 1 |\n",
       "| 5 | 1 | 1 | 1 | 1 | 1 | 1 | 5 | 4 | 0 | 0 | 159 | 1 |\n",
       "| 6 | 1 | 1 | 1 | 1 | 1 | 5 | 3 | 2 | 0 | 0 |  80 | 1 |\n",
       "\n"
      ],
      "text/plain": [
       "  Contains_Free Contains_Win Contains_Offer Contains_Link Contains_Discount\n",
       "1 1             1            1              1             1                \n",
       "2 1             1            0              1             1                \n",
       "3 1             1            1              1             1                \n",
       "4 1             1            1              1             1                \n",
       "5 1             1            1              1             1                \n",
       "6 1             1            1              1             1                \n",
       "  Free_Freq Win_Freq Offer_Freq Link_Freq Discount_Freq Total_Words Spam\n",
       "1 2         1        0          4         2             110         1   \n",
       "2 5         4        3          2         4             230         0   \n",
       "3 2         1        3          5         3             110         1   \n",
       "4 1         2        2          5         2              58         1   \n",
       "5 1         5        4          0         0             159         1   \n",
       "6 5         3        2          0         0              80         1   "
      ]
     },
     "metadata": {},
     "output_type": "display_data"
    }
   ],
   "source": [
    "# Set seed for reproducibility\n",
    "set.seed(123)\n",
    "\n",
    "# Number of records\n",
    "n <- 10000\n",
    "\n",
    "# Function to generate synthetic data\n",
    "generate_data <- function(n) {\n",
    "  data <- data.frame(\n",
    "    Free_Freq = sample(0:5, n, replace = TRUE),\n",
    "    Win_Freq = sample(0:5, n, replace = TRUE),\n",
    "    Offer_Freq = sample(0:5, n, replace = TRUE),\n",
    "    Link_Freq = sample(0:5, n, replace = TRUE),\n",
    "    Discount_Freq = sample(0:5, n, replace = TRUE),\n",
    "    Contains_Free = as.integer(sample(0:5, n, replace = TRUE) > 0),\n",
    "    Contains_Win = as.integer(sample(0:5, n, replace = TRUE) > 0),\n",
    "    Contains_Offer = as.integer(sample(0:5, n, replace = TRUE) > 0),\n",
    "    Contains_Link = as.integer(sample(0:5, n, replace = TRUE) > 0),\n",
    "    Contains_Discount = as.integer(sample(0:5, n, replace = TRUE) > 0),\n",
    "    Total_Words = sample(50:300, n, replace = TRUE),\n",
    "    Spam = sample(0:1, n, replace = TRUE)\n",
    "  )\n",
    "    # Calculate spam probability (simple rule-based approach)\n",
    "  spam_score <- 0.3 * data$Contains_Free + \n",
    "                0.2 * data$Contains_Win + \n",
    "                0.2 * data$Contains_Offer + \n",
    "                0.2 * data$Contains_Link + \n",
    "                0.1 * data$Contains_Discount\n",
    "  \n",
    "  # Assign spam label based on spam score\n",
    "  data$Spam <- as.integer(runif(n) < spam_score)\n",
    "  \n",
    "  return(data)\n",
    "}\n",
    "\n",
    "# Generate the synthetic dataset\n",
    "synthetic_data <- generate_data(n)\n",
    "\n",
    "# Reorder columns\n",
    "synthetic_data <- synthetic_data %>% select(Contains_Free, Contains_Win, Contains_Offer, Contains_Link, Contains_Discount,\n",
    "                                            Free_Freq, Win_Freq, Offer_Freq, Link_Freq, Discount_Freq,\n",
    "                                            Total_Words, Spam)\n",
    "\n",
    "# Display the head of the dataset\n",
    "head(synthetic_data)\n",
    "\n",
    "# Save the dataset as a CSV file\n",
    "write.csv(synthetic_data, \"synthetic_email_data.csv\", row.names = FALSE)\n"
   ]
  },
  {
   "cell_type": "code",
   "execution_count": null,
   "id": "ab5b85ee-da6b-4c53-8221-f76dc6ee09e5",
   "metadata": {},
   "outputs": [],
   "source": []
  }
 ],
 "metadata": {
  "kernelspec": {
   "display_name": "R",
   "language": "R",
   "name": "ir"
  },
  "language_info": {
   "codemirror_mode": "r",
   "file_extension": ".r",
   "mimetype": "text/x-r-source",
   "name": "R",
   "pygments_lexer": "r",
   "version": "4.4.0"
  }
 },
 "nbformat": 4,
 "nbformat_minor": 5
}
